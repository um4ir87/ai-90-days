{
  "nbformat": 4,
  "nbformat_minor": 0,
  "metadata": {
    "colab": {
      "provenance": [],
      "authorship_tag": "ABX9TyNAu4omhVkGvLdQPiYrJTF1",
      "include_colab_link": true
    },
    "kernelspec": {
      "name": "python3",
      "display_name": "Python 3"
    },
    "language_info": {
      "name": "python"
    }
  },
  "cells": [
    {
      "cell_type": "markdown",
      "metadata": {
        "id": "view-in-github",
        "colab_type": "text"
      },
      "source": [
        "<a href=\"https://colab.research.google.com/github/um4ir87/ai-90-days/blob/main/day1_setup.ipynb\" target=\"_parent\"><img src=\"https://colab.research.google.com/assets/colab-badge.svg\" alt=\"Open In Colab\"/></a>"
      ]
    },
    {
      "cell_type": "code",
      "execution_count": null,
      "metadata": {
        "id": "uNw02_vqV4XM"
      },
      "outputs": [],
      "source": [
        "!python --version\n",
        "!pip install --quiet kaggle"
      ]
    },
    {
      "cell_type": "code",
      "source": [
        "content = \"# AI 90 Days - Day 1\\\\n- Goal: Setup and first notebook\\\\n- Date: 2025-11-01\\\\n\"\n",
        "with open(\"README_DAY1.md\", \"w\") as f:\n",
        "    f.write(content)\n",
        "!ls -la"
      ],
      "metadata": {
        "id": "goW5GZ1cdAuY",
        "outputId": "7ef4926a-b8e4-4c3c-81d0-5dd373736a0e",
        "colab": {
          "base_uri": "https://localhost:8080/"
        }
      },
      "execution_count": null,
      "outputs": [
        {
          "output_type": "stream",
          "name": "stdout",
          "text": [
            "total 20\n",
            "drwxr-xr-x 1 root root 4096 Oct 29 10:12 .\n",
            "drwxr-xr-x 1 root root 4096 Oct 29 09:57 ..\n",
            "drwxr-xr-x 4 root root 4096 Oct 27 13:37 .config\n",
            "-rw-r--r-- 1 root root   76 Oct 29 10:12 README_DAY1.md\n",
            "drwxr-xr-x 1 root root 4096 Oct 27 13:37 sample_data\n"
          ]
        }
      ]
    },
    {
      "cell_type": "code",
      "source": [
        "Named GitHub Repo: day1_setup.ipynb\n"
      ],
      "metadata": {
        "id": "waWqTO1xffpe"
      },
      "execution_count": null,
      "outputs": []
    }
  ]
}