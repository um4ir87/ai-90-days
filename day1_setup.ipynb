{
  "nbformat": 4,
  "nbformat_minor": 0,
  "metadata": {
    "colab": {
      "provenance": [],
      "authorship_tag": "ABX9TyOhOiyguU17HL46jZP0oTPh",
      "include_colab_link": true
    },
    "kernelspec": {
      "name": "python3",
      "display_name": "Python 3"
    },
    "language_info": {
      "name": "python"
    }
  },
  "cells": [
    {
      "cell_type": "markdown",
      "metadata": {
        "id": "view-in-github",
        "colab_type": "text"
      },
      "source": [
        "<a href=\"https://colab.research.google.com/github/um4ir87/ai-90-days/blob/main/day1_setup.ipynb\" target=\"_parent\"><img src=\"https://colab.research.google.com/assets/colab-badge.svg\" alt=\"Open In Colab\"/></a>"
      ]
    },
    {
      "cell_type": "code",
      "execution_count": null,
      "metadata": {
        "id": "uNw02_vqV4XM"
      },
      "outputs": [],
      "source": [
        "content = \"# AI 90 Days - Day 1\\\\n- Goal: Setup and first notebook\\\\n- Date: 2025-11-01\\\\n\"\n",
        "with open(\"README_DAY1.md\", \"w\") as f:\n",
        "    f.write(content)\n",
        "!ls -la"
      ]
    }
  ]
}